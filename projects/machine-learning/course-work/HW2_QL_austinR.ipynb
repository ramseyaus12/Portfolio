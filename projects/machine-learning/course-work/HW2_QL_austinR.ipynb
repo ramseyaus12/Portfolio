{
  "nbformat": 4,
  "nbformat_minor": 0,
  "metadata": {
    "colab": {
      "provenance": []
    },
    "kernelspec": {
      "name": "python3",
      "display_name": "Python 3"
    },
    "language_info": {
      "name": "python"
    }
  },
  "cells": [
    {
      "cell_type": "markdown",
      "source": [
        "# HW2: Going Outside (Graph Search) using Q-learning \n",
        "\n",
        "https://www.cnblogs.com/dragonir/p/6224313.html (Chinese & English from the original page)\n",
        "\n",
        "Read Lecture Slides #19-#20 in `11_QLearn.pdf`"
      ],
      "metadata": {
        "id": "Uh0UYKqs1q0u"
      }
    },
    {
      "cell_type": "code",
      "source": [
        "import numpy as np\n",
        "import random\n",
        "\n",
        "gamma=0.8\n",
        "Q=np.zeros([6,6])\n",
        "R=np.array([[-1,-1,-1,-1,0,-1],  # 0\n",
        "            [-1,-1,-1,0,-1,100], # 1\n",
        "            [-1,-1,-1,0,-1,-1],  # 2\n",
        "            [-1,0,0,-1,0,-1],    # 3\n",
        "            [0,-1,-1,0,-1,100],  # 4\n",
        "            [-1,0,-1,-1,0,100]]) # 5\n",
        "print(np.array_str(R, precision=3))"
      ],
      "metadata": {
        "id": "o05F8__n25fF",
        "colab": {
          "base_uri": "https://localhost:8080/"
        },
        "outputId": "dacc3b0d-abf4-42f5-8e1e-c2de48892e71"
      },
      "execution_count": 4,
      "outputs": [
        {
          "output_type": "stream",
          "name": "stdout",
          "text": [
            "[[ -1  -1  -1  -1   0  -1]\n",
            " [ -1  -1  -1   0  -1 100]\n",
            " [ -1  -1  -1   0  -1  -1]\n",
            " [ -1   0   0  -1   0  -1]\n",
            " [  0  -1  -1   0  -1 100]\n",
            " [ -1   0  -1  -1   0 100]]\n"
          ]
        }
      ]
    },
    {
      "cell_type": "markdown",
      "source": [
        "### Python review before begining the QL code"
      ],
      "metadata": {
        "id": "WSt1a3xMnAKM"
      }
    },
    {
      "cell_type": "code",
      "source": [
        "# Python arrays review\n",
        "print(R[1][5]) \n",
        "print(R[1,5])\n",
        "print(R[1,])\n",
        "print(R[1, [4,5] ])"
      ],
      "metadata": {
        "colab": {
          "base_uri": "https://localhost:8080/"
        },
        "id": "SFhl97_PaFBh",
        "outputId": "66ed313e-ee92-447d-ebe3-f6e61e003d0b"
      },
      "execution_count": 5,
      "outputs": [
        {
          "output_type": "stream",
          "name": "stdout",
          "text": [
            "100\n",
            "100\n",
            "[ -1  -1  -1   0  -1 100]\n",
            "[ -1 100]\n"
          ]
        }
      ]
    },
    {
      "cell_type": "code",
      "source": [
        "# enumerate test: to get a index and the value from the iterable at the same time.\n",
        "for index, value in enumerate(R[0]):\n",
        "  print(index, value)"
      ],
      "metadata": {
        "colab": {
          "base_uri": "https://localhost:8080/"
        },
        "id": "28iTwnH9eMSw",
        "outputId": "b7cd4a5e-ee18-4ff7-e7b4-0a282cc6ada4"
      },
      "execution_count": 6,
      "outputs": [
        {
          "output_type": "stream",
          "name": "stdout",
          "text": [
            "0 -1\n",
            "1 -1\n",
            "2 -1\n",
            "3 -1\n",
            "4 0\n",
            "5 -1\n"
          ]
        }
      ]
    },
    {
      "cell_type": "code",
      "source": [
        "# Python review: to test int(np_array)\n",
        "print(int(np.array([1]))) "
      ],
      "metadata": {
        "colab": {
          "base_uri": "https://localhost:8080/"
        },
        "id": "Qpk5fVC9b3UL",
        "outputId": "1179fcd0-6983-43da-8272-b23872cafc5b"
      },
      "execution_count": 7,
      "outputs": [
        {
          "output_type": "stream",
          "name": "stdout",
          "text": [
            "1\n"
          ]
        }
      ]
    },
    {
      "cell_type": "code",
      "source": [
        "# a is an array of integers.\n",
        "a = np.array([1, 2, 3, 4, 5, 6])\n",
        "\n",
        "print ('Indices of elements > 3:')\n",
        "i = np.where(a>3)\n",
        "print(i)\n",
        "print(i[0])\n",
        "b = a[i] # a[i[0]] also works\n",
        "print(b)"
      ],
      "metadata": {
        "colab": {
          "base_uri": "https://localhost:8080/"
        },
        "id": "xjnOZtJEmGn3",
        "outputId": "8efb75d7-00f6-450c-bf93-b06da3524d0c"
      },
      "execution_count": 8,
      "outputs": [
        {
          "output_type": "stream",
          "name": "stdout",
          "text": [
            "Indices of elements > 3:\n",
            "(array([3, 4, 5]),)\n",
            "[3 4 5]\n",
            "[4 5 6]\n"
          ]
        }
      ]
    },
    {
      "cell_type": "markdown",
      "source": [
        "### QL code for building Q-table"
      ],
      "metadata": {
        "id": "Munsf74jnUXU"
      }
    },
    {
      "cell_type": "code",
      "source": [
        "scores = []\n",
        "for episode in range(900):\n",
        "  currSt = random.randint(0,5) # initial state for the episode. 0 and 5 both included\n",
        "  #print(f\"\\n*****Current State = {currSt}\")\n",
        "  flag = 0 # to handle if initial currSt chosen at randome is 5. \n",
        "           # without this, the last row of Q will be all zeros\n",
        "  while flag == 0 or currSt != 5:\n",
        "    flag = 1 \n",
        "    nextSts_fr_currSt = []\n",
        "    nextActs_fr_nextSt = []\n",
        "\n",
        "    for index, value in enumerate(R[currSt]):\n",
        "      if value != -1:\n",
        "        nextSts_fr_currSt.append(index)\n",
        "    #print(f\"possible actions (reachable states) from Current State = {nextSts_fr_currSt}\")\n",
        "\n",
        "    nextSt = random.choice(np.array(nextSts_fr_currSt)) # choice(): we can get a random sample from 1Darray\n",
        "    #print(f\"chosen next action = {nextSt}\")\n",
        "    for index, value in enumerate(R[nextSt]):\n",
        "      if value != -1:\n",
        "        nextActs_fr_nextSt.append(index)\n",
        "    #print(f\"possible actions (reachable states) from next_st = {nextActs_fr_nextSt}\")\n",
        "    #print(f\"  Before gamma*max: {Q[nextSt, nextActs_fr_nextSt]}\")\n",
        "    Q[currSt, nextSt] = R[currSt, nextSt] + gamma*max(Q[nextSt, nextActs_fr_nextSt]) # See sample code below to understand\n",
        "    #Q[currSt, nextSt] =  gamma*max(R[currSt, nextSt] + Q[nextSt, nextActs_fr_nextSt])\n",
        "    #print(f\"  Updated: {Q[currSt, nextSt]}\")\n",
        "    currSt = nextSt\n",
        "\n",
        "  # to graph for each episode\n",
        "  if (np.max(Q) > 0):\n",
        "    scores.append(np.sum(Q/np.max(Q)*100))\n",
        "  else:\n",
        "    scores.append(0)\n",
        "\n",
        "print(np.array_str(Q, precision=1), end='\\n\\n')\n",
        "print(np.array_str(Q*100/np.max(Q), precision=0))"
      ],
      "metadata": {
        "colab": {
          "base_uri": "https://localhost:8080/"
        },
        "id": "8OtwF1Xt2rTf",
        "outputId": "f9132248-a19d-427f-ea51-9f481769fbbd"
      },
      "execution_count": 9,
      "outputs": [
        {
          "output_type": "stream",
          "name": "stdout",
          "text": [
            "[[  0.   0.   0.   0. 400.   0.]\n",
            " [  0.   0.   0. 320.   0. 500.]\n",
            " [  0.   0.   0. 320.   0.   0.]\n",
            " [  0. 400. 256.   0. 400.   0.]\n",
            " [320.   0.   0. 320.   0. 500.]\n",
            " [  0. 400.   0.   0. 400. 500.]]\n",
            "\n",
            "[[  0.   0.   0.   0.  80.   0.]\n",
            " [  0.   0.   0.  64.   0. 100.]\n",
            " [  0.   0.   0.  64.   0.   0.]\n",
            " [  0.  80.  51.   0.  80.   0.]\n",
            " [ 64.   0.   0.  64.   0. 100.]\n",
            " [  0.  80.   0.   0.  80. 100.]]\n"
          ]
        }
      ]
    },
    {
      "cell_type": "code",
      "source": [
        "import pylab as plt\n",
        "plt.plot(scores)\n",
        "plt.show()"
      ],
      "metadata": {
        "colab": {
          "base_uri": "https://localhost:8080/",
          "height": 265
        },
        "id": "ncdzx9XlgCNB",
        "outputId": "3a34b9fe-e7ee-400d-8dad-151dc9c26cda"
      },
      "execution_count": 10,
      "outputs": [
        {
          "output_type": "display_data",
          "data": {
            "text/plain": [
              "<Figure size 432x288 with 1 Axes>"
            ],
            "image/png": "[encoded data removed]"
          },
          "metadata": {
            "needs_background": "light"
          }
        }
      ]
    },
    {
      "cell_type": "markdown",
      "source": [
        "### using the Q-table for testing (finding the best path)"
      ],
      "metadata": {
        "id": "3PywmvbAnhCd"
      }
    },
    {
      "cell_type": "code",
      "source": [
        "currSt = 2\n",
        "steps = [currSt]\n",
        "\n",
        "while currSt != 5:\n",
        "    # ------ complete this part ----------\n",
        "    nextSt = np.argmax(Q[currSt])\n",
        "\n",
        "    steps.append(nextSt) # complete this line\n",
        "    currSt = nextSt       # complete this line\n",
        "\n",
        "print(f\"Most efficient path: {steps}\")"
      ],
      "metadata": {
        "colab": {
          "base_uri": "https://localhost:8080/"
        },
        "id": "ffRKuE3Z13Xv",
        "outputId": "26f5b93f-e7e3-4775-e791-572ab99f8ca5"
      },
      "execution_count": 21,
      "outputs": [
        {
          "output_type": "stream",
          "name": "stdout",
          "text": [
            "Most efficient path: [2, 3, 1, 5]\n"
          ]
        }
      ]
    },
    {
      "cell_type": "code",
      "source": [
        "# Function to build Q-Table\n",
        "def QLearn(r, q, n):\n",
        "  scores = []\n",
        "  for episode in range(900):\n",
        "    currSt = random.randint(0,n) # initial state for the episode. 0 and 5 both included\n",
        "    #print(f\"\\n*****Current State = {currSt}\")\n",
        "    flag = 0 # to handle if initial currSt chosen at randome is 5. \n",
        "           # without this, the last row of Q will be all zeros\n",
        "    while flag == 0 or currSt != n:\n",
        "      flag = 1 \n",
        "      nextSts_fr_currSt = []\n",
        "      nextActs_fr_nextSt = []\n",
        "\n",
        "      for index, value in enumerate(r[currSt]):\n",
        "        if value != -1:\n",
        "          nextSts_fr_currSt.append(index)\n",
        "      #print(f\"possible actions (reachable states) from Current State = {nextSts_fr_currSt}\")\n",
        "\n",
        "      nextSt = random.choice(np.array(nextSts_fr_currSt)) # choice(): we can get a random sample from 1Darray\n",
        "      #print(f\"chosen next action = {nextSt}\")\n",
        "      for index, value in enumerate(r[nextSt]):\n",
        "        if value != -1:\n",
        "          nextActs_fr_nextSt.append(index)\n",
        "      #print(f\"possible actions (reachable states) from next_st = {nextActs_fr_nextSt}\")\n",
        "      #print(f\"  Before gamma*max: {Q[nextSt, nextActs_fr_nextSt]}\")\n",
        "      q[currSt, nextSt] = r[currSt, nextSt] + gamma*max(q[nextSt, nextActs_fr_nextSt]) # See sample code below to understand\n",
        "      #Q[currSt, nextSt] =  gamma*max(R[currSt, nextSt] + Q[nextSt, nextActs_fr_nextSt])\n",
        "      #print(f\"  Updated: {Q[currSt, nextSt]}\")\n",
        "      currSt = nextSt\n",
        "\n",
        "    # to graph for each episode\n",
        "    if (np.max(q) > 0):\n",
        "      scores.append(np.sum(q/np.max(q)*100))\n",
        "    else:\n",
        "      scores.append(0)\n",
        "\n",
        "  #print(np.array_str(Q, precision=1), end='\\n\\n')\n",
        "  print(np.array_str(q*100/np.max(q), precision=0))\n",
        "  plt.plot(scores)\n",
        "  plt.show()\n",
        "  \n",
        "# Function to test (find best paths from each room)\n",
        "def test(q, n):\n",
        "  currNum = 0\n",
        "  while currNum != n:\n",
        "    currSt = currNum\n",
        "    steps = [currSt]\n",
        "\n",
        "    while currSt != n:\n",
        "      # ------ complete this part ----------\n",
        "      nextSt = np.argmax(q[currSt])\n",
        "\n",
        "      steps.append(nextSt) # complete this line\n",
        "      currSt = nextSt       # complete this line\n",
        "\n",
        "    print(f\"Most efficient path: {steps}\")\n",
        "    currNum += 1"
      ],
      "metadata": {
        "id": "up3Cq8leongP"
      },
      "execution_count": 22,
      "outputs": []
    },
    {
      "cell_type": "code",
      "source": [
        "# Main\n",
        "Q1=np.zeros([6,6])\n",
        "R1=np.array([[-1,-1,-1,-1,0,-1],  # 0\n",
        "            [-1,-1,-1,0,-1,100],  # 1\n",
        "            [-1,-1,-1,0,-1,-1],   # 2\n",
        "            [-1,0,0,-1,0,-1],     # 3\n",
        "            [0,-1,-1,0,-1,100],   # 4\n",
        "            [-1,0,-1,-1,0,100]])  # 5\n",
        "print('------------------------ Peghotys House ------------------------')\n",
        "QLearn(R1, Q1, 5)\n",
        "test(Q1, 5)\n",
        "\n",
        "Q2=np.zeros([7,7])\n",
        "R2=np.array([[-1,-1,-1,-1,-1,0,-1],  # 0\n",
        "             [-1,-1,-1,-1,0,-1,100], # 1\n",
        "             [-1,-1,-1,0,-1,-1,100], # 2\n",
        "             [-1,-1,0,-1,0,-1,-1],   # 3\n",
        "             [-1,0,-1,0,-1,0,-1],    # 4\n",
        "             [0,-1,-1,-1,0,-1,-1],   # 5\n",
        "             [-1,0,0,-1,-1,-1,100]]) # 6\n",
        "print('\\n------------------------ Chungs House ------------------------')\n",
        "QLearn(R2, Q2, 6)\n",
        "test(Q2, 6)"
      ],
      "metadata": {
        "colab": {
          "base_uri": "https://localhost:8080/",
          "height": 995
        },
        "id": "Il2xcftnpYs1",
        "outputId": "c9c151b0-4e17-48cb-f913-23ff0587aa8c"
      },
      "execution_count": 26,
      "outputs": [
        {
          "output_type": "stream",
          "name": "stdout",
          "text": [
            "------------------------ Peghotys House ------------------------\n",
            "[[  0.   0.   0.   0.  80.   0.]\n",
            " [  0.   0.   0.  64.   0. 100.]\n",
            " [  0.   0.   0.  64.   0.   0.]\n",
            " [  0.  80.  51.   0.  80.   0.]\n",
            " [ 64.   0.   0.  64.   0. 100.]\n",
            " [  0.  80.   0.   0.  80. 100.]]\n"
          ]
        },
        {
          "output_type": "display_data",
          "data": {
            "text/plain": [
              "<Figure size 432x288 with 1 Axes>"
            ],
            "image/png": "[encoded data removed]"
          },
          "metadata": {
            "needs_background": "light"
          }
        },
        {
          "output_type": "stream",
          "name": "stdout",
          "text": [
            "Most efficient path: [0, 4, 5]\n",
            "Most efficient path: [1, 5]\n",
            "Most efficient path: [2, 3, 1, 5]\n",
            "Most efficient path: [3, 1, 5]\n",
            "Most efficient path: [4, 5]\n",
            "\n",
            "------------------------ Chungs House ------------------------\n",
            "[[  0.   0.   0.   0.   0.  51.   0.]\n",
            " [  0.   0.   0.   0.  64.   0. 100.]\n",
            " [  0.   0.   0.  64.   0.   0. 100.]\n",
            " [  0.   0.  80.   0.  64.   0.   0.]\n",
            " [  0.  80.   0.  64.   0.  51.   0.]\n",
            " [ 41.   0.   0.   0.  64.   0.   0.]\n",
            " [  0.  80.  80.   0.   0.   0. 100.]]\n"
          ]
        },
        {
          "output_type": "display_data",
          "data": {
            "text/plain": [
              "<Figure size 432x288 with 1 Axes>"
            ],
            "image/png": "[encoded data removed]"
          },
          "metadata": {
            "needs_background": "light"
          }
        },
        {
          "output_type": "stream",
          "name": "stdout",
          "text": [
            "Most efficient path: [0, 5, 4, 1, 6]\n",
            "Most efficient path: [1, 6]\n",
            "Most efficient path: [2, 6]\n",
            "Most efficient path: [3, 2, 6]\n",
            "Most efficient path: [4, 1, 6]\n",
            "Most efficient path: [5, 4, 1, 6]\n"
          ]
        }
      ]
    }
  ]
}