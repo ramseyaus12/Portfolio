{
 "cells": [
  {
   "cell_type": "markdown",
   "id": "f767d75a",
   "metadata": {},
   "source": [
    "# Install TensorFlow on Mac M1/M2 with GPU support\n",
    "Install TensorFlow in a few steps on Mac M1/M2 with GPU support and benefit <br>\n",
    "from the native performance of the new Mac Silicon ARM64 architecture.\n",
    "\n",
    "The article to this project is published on Medium: https://medium.com/@deganza11/install-tensorflow-on-mac-m1-m2-with-gpu-support-c404c6cfb580\n",
    "\n"
   ]
  },
  {
   "cell_type": "markdown",
   "id": "fdc5e3f0",
   "metadata": {},
   "source": [
    "## 1. Install TensorFlow"
   ]
  },
  {
   "cell_type": "markdown",
   "id": "780d39de",
   "metadata": {},
   "source": [
    "### Install the TensorFlow dependencies:"
   ]
  },
  {
   "cell_type": "code",
   "execution_count": null,
   "id": "00eadc4a",
   "metadata": {},
   "outputs": [],
   "source": [
    "conda install -c apple tensorflow-deps"
   ]
  },
  {
   "cell_type": "markdown",
   "id": "724874a5",
   "metadata": {},
   "source": [
    "### Install base TensorFlow:"
   ]
  },
  {
   "cell_type": "code",
   "execution_count": null,
   "id": "9b0df049",
   "metadata": {},
   "outputs": [],
   "source": [
    "pip install tensorflow-macos"
   ]
  },
  {
   "cell_type": "markdown",
   "id": "bcd7ec67",
   "metadata": {},
   "source": [
    "### Install Metal plugin:"
   ]
  },
  {
   "cell_type": "code",
   "execution_count": null,
   "id": "e5874204",
   "metadata": {},
   "outputs": [],
   "source": [
    "pip install tensorflow-metal"
   ]
  },
  {
   "cell_type": "markdown",
   "id": "b7be1044",
   "metadata": {},
   "source": [
    "##  2. Install common packages"
   ]
  },
  {
   "cell_type": "markdown",
   "id": "8e2b55d6",
   "metadata": {},
   "source": [
    "Now install common additional packages and upgrade the packages so that they are updated to the M1 architecture."
   ]
  },
  {
   "cell_type": "code",
   "execution_count": null,
   "id": "897b4991",
   "metadata": {},
   "outputs": [],
   "source": [
    "pip install numpy\n",
    "pip install pandas\n",
    "pip install matplotlib\n",
    "pip install scikit-learn\n",
    "pip install scipy\n",
    "pip install plotly"
   ]
  },
  {
   "cell_type": "markdown",
   "id": "abe2eeb5",
   "metadata": {},
   "source": [
    "## 3. Check GPU availability"
   ]
  },
  {
   "cell_type": "code",
   "execution_count": 12,
   "id": "54e7786f",
   "metadata": {},
   "outputs": [
    {
     "name": "stdout",
     "output_type": "stream",
     "text": [
      "Python Platform: macOS-14.1.1-arm64-arm-64bit\n",
      "Tensor Flow Version: 2.13.0\n",
      "\n",
      "Python 3.8.18 (default, Sep 11 2023, 08:17:16) \n",
      "[Clang 14.0.6 ]\n",
      "Pandas 2.0.3\n",
      "Scikit-Learn 1.3.2\n",
      "SciPy 1.10.1\n",
      "GPU is available\n"
     ]
    }
   ],
   "source": [
    "import sys\n",
    "import tensorflow.keras as keras\n",
    "import pandas as pd\n",
    "import sklearn as sk\n",
    "import scipy as sp\n",
    "import tensorflow as tf\n",
    "from tensorflow import keras\n",
    "import platform\n",
    "\n",
    "print(f\"Python Platform: {platform.platform()}\")\n",
    "print(f\"Tensor Flow Version: {tf.__version__}\")\n",
    "#print(f\"Keras Version: {tensorflow.keras.__version__}\")\n",
    "print()\n",
    "print(f\"Python {sys.version}\")\n",
    "print(f\"Pandas {pd.__version__}\")\n",
    "print(f\"Scikit-Learn {sk.__version__}\")\n",
    "print(f\"SciPy {sp.__version__}\")\n",
    "gpu = len(tf.config.list_physical_devices('GPU'))>0\n",
    "print(\"GPU is\", \"available\" if gpu else \"NOT AVAILABLE\")"
   ]
  }
 ],
 "metadata": {
  "kernelspec": {
   "display_name": "Python 3 (ipykernel)",
   "language": "python",
   "name": "python3"
  },
  "language_info": {
   "codemirror_mode": {
    "name": "ipython",
    "version": 3
   },
   "file_extension": ".py",
   "mimetype": "text/x-python",
   "name": "python",
   "nbconvert_exporter": "python",
   "pygments_lexer": "ipython3",
   "version": "3.8.18"
  }
 },
 "nbformat": 4,
 "nbformat_minor": 5
}
